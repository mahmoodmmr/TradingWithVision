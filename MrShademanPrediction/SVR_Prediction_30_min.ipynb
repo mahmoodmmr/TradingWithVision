{
 "cells": [
  {
   "cell_type": "code",
   "execution_count": 3,
   "id": "7fef165f",
   "metadata": {},
   "outputs": [
    {
     "name": "stdout",
     "output_type": "stream",
     "text": [
      "Collecting pandas\n",
      "  Downloading pandas-2.0.2-cp39-cp39-win_amd64.whl (10.7 MB)\n",
      "     -------------------------------------- 10.7/10.7 MB 239.8 kB/s eta 0:00:00\n",
      "Collecting tzdata>=2022.1\n",
      "  Using cached tzdata-2023.3-py2.py3-none-any.whl (341 kB)\n",
      "Collecting pytz>=2020.1\n",
      "  Using cached pytz-2023.3-py2.py3-none-any.whl (502 kB)\n",
      "Requirement already satisfied: python-dateutil>=2.8.2 in c:\\users\\mahmoodthe3rd\\anaconda3\\envs\\testenv\\lib\\site-packages (from pandas) (2.8.2)\n",
      "Requirement already satisfied: numpy>=1.20.3 in c:\\users\\mahmoodthe3rd\\anaconda3\\envs\\testenv\\lib\\site-packages (from pandas) (1.24.3)\n",
      "Requirement already satisfied: six>=1.5 in c:\\users\\mahmoodthe3rd\\anaconda3\\envs\\testenv\\lib\\site-packages (from python-dateutil>=2.8.2->pandas) (1.16.0)\n",
      "Installing collected packages: pytz, tzdata, pandas\n",
      "Successfully installed pandas-2.0.2 pytz-2023.3 tzdata-2023.3\n"
     ]
    }
   ],
   "source": [
    "# !pip install requests\n",
    "# !pip install sklearn\n",
    "# !pip install matplotlib\n",
    "# !pip install numpy\n",
    "!pip install pandas"
   ]
  },
  {
   "cell_type": "code",
   "execution_count": 2,
   "id": "8208ddc9",
   "metadata": {},
   "outputs": [
    {
     "ename": "ModuleNotFoundError",
     "evalue": "No module named 'pandas'",
     "output_type": "error",
     "traceback": [
      "\u001b[1;31m---------------------------------------------------------------------------\u001b[0m",
      "\u001b[1;31mModuleNotFoundError\u001b[0m                       Traceback (most recent call last)",
      "Cell \u001b[1;32mIn[2], line 3\u001b[0m\n\u001b[0;32m      1\u001b[0m \u001b[39mimport\u001b[39;00m \u001b[39mnumpy\u001b[39;00m \u001b[39mas\u001b[39;00m \u001b[39mnp\u001b[39;00m\n\u001b[0;32m      2\u001b[0m \u001b[39mfrom\u001b[39;00m \u001b[39mnumpy\u001b[39;00m \u001b[39mimport\u001b[39;00m genfromtxt\n\u001b[1;32m----> 3\u001b[0m \u001b[39mimport\u001b[39;00m \u001b[39mpandas\u001b[39;00m \u001b[39mas\u001b[39;00m \u001b[39mpd\u001b[39;00m\n\u001b[0;32m      4\u001b[0m \u001b[39mfrom\u001b[39;00m \u001b[39msklearn\u001b[39;00m\u001b[39m.\u001b[39;00m\u001b[39mmodel_selection\u001b[39;00m \u001b[39mimport\u001b[39;00m train_test_split\n\u001b[0;32m      5\u001b[0m \u001b[39mfrom\u001b[39;00m \u001b[39msklearn\u001b[39;00m\u001b[39m.\u001b[39;00m\u001b[39msvm\u001b[39;00m \u001b[39mimport\u001b[39;00m SVR\n",
      "\u001b[1;31mModuleNotFoundError\u001b[0m: No module named 'pandas'"
     ]
    }
   ],
   "source": [
    "\n",
    "import numpy as np\n",
    "from numpy import genfromtxt\n",
    "import pandas as pd\n",
    "from sklearn.model_selection import train_test_split\n",
    "from sklearn.svm import SVR\n",
    "import matplotlib.pyplot as plt\n",
    "\n",
    "import requests\n",
    "import csv\n",
    "import json"
   ]
  },
  {
   "cell_type": "code",
   "execution_count": 2,
   "id": "cce18d01",
   "metadata": {},
   "outputs": [
    {
     "name": "stdout",
     "output_type": "stream",
     "text": [
      "Successful\n"
     ]
    }
   ],
   "source": [
    "# set prediction step and read data\n",
    "prediction_step = 1\n",
    "\n",
    "my_data = genfromtxt(\"/home/aban/work/Bitcoin/data/data_30_min.csv\", delimiter=',')\n",
    "my_data2= my_data[1:(len(my_data)+1),3:6]\n",
    "\n",
    "# Get previous price\n",
    "a_high = my_data2[len(my_data2)-1,0]\n",
    "a_low = my_data2[len(my_data2)-1,1]\n",
    "a_close = my_data2[len(my_data2)-1,2]\n",
    "\n",
    "# Convert data to data frame\n",
    "data_high = pd.DataFrame(my_data2[:,0], columns=[\"High_price\"])\n",
    "data_low = pd.DataFrame(my_data2[:,1], columns=[\"Low_price\"])\n",
    "data_close = pd.DataFrame(my_data2[:,2], columns=[\"Close_price\"])\n",
    "\n",
    "del(my_data,my_data2)\n",
    "print(\"Successful\")"
   ]
  },
  {
   "cell_type": "code",
   "execution_count": 3,
   "id": "4231d497",
   "metadata": {},
   "outputs": [
    {
     "name": "stdout",
     "output_type": "stream",
     "text": [
      "Successful\n"
     ]
    }
   ],
   "source": [
    "# scale data\n",
    "# scale high\n",
    "m_high = np.mean(np.array(data_high[\"High_price\"]))\n",
    "s_high = np.std(np.array(data_high[\"High_price\"]))\n",
    "a = (data_high[\"High_price\"] - m_high) / s_high\n",
    "data_high[\"High_price\"] = a\n",
    "del(a)\n",
    "\n",
    "# scale low\n",
    "m_low = np.mean(np.array(data_low[\"Low_price\"]))\n",
    "s_low = np.std(np.array(data_low[\"Low_price\"]))\n",
    "a = (data_low[\"Low_price\"] - m_low) / s_low\n",
    "data_low[\"Low_price\"] = a\n",
    "del(a)\n",
    "\n",
    "# scale close\n",
    "m_close = np.mean(np.array(data_close[\"Close_price\"]))\n",
    "s_close = np.std(np.array(data_close[\"Close_price\"]))\n",
    "a = (data_close[\"Close_price\"] - m_close) / s_close\n",
    "data_close[\"Close_price\"] = a\n",
    "del(a)\n",
    "print(\"Successful\")"
   ]
  },
  {
   "cell_type": "code",
   "execution_count": null,
   "id": "141446f8",
   "metadata": {
    "scrolled": true
   },
   "outputs": [],
   "source": [
    "# create train and test data\n",
    "# high data\n",
    "data_high[\"Predictin\"] = data_high[[\"High_price\"]].shift(-prediction_step)\n",
    "x_high = np.array(data_high.drop([\"Predictin\"], 1))\n",
    "x_high = x_high[:len(data_high)-prediction_step] # remove NA cell\n",
    "y_high = np.array(data_high[\"Predictin\"])\n",
    "y_high = y_high[:-prediction_step] # remove NA cell\n",
    "\n",
    "x_high_train, x_high_test, y_high_train, y_high_test = train_test_split(x_high, y_high, test_size = 0.1)\n",
    "\n",
    "# low data\n",
    "data_low[\"Predictin\"] = data_low[[\"Low_price\"]].shift(-prediction_step)\n",
    "x_low = np.array(data_low.drop([\"Predictin\"], 1))\n",
    "x_low = x_low[:len(data_low)-prediction_step] # remove NA cell\n",
    "y_low = np.array(data_low[\"Predictin\"])\n",
    "y_low = y_low[:-prediction_step] # remove NA cell\n",
    "\n",
    "x_low_train, x_low_test, y_low_train, y_low_test = train_test_split(x_low, y_low, test_size = 0.1)\n",
    "\n",
    "# close data\n",
    "data_close[\"Predictin\"] = data_close[[\"Close_price\"]].shift(-prediction_step)\n",
    "x_close = np.array(data_close.drop([\"Predictin\"], 1))\n",
    "x_close = x_close[:len(data_close)-prediction_step] # remove NA cell\n",
    "y_close = np.array(data_close[\"Predictin\"])\n",
    "y_close = y_close[:-prediction_step] # remove NA cell\n",
    "\n",
    "x_close_train, x_close_test, y_close_train, y_close_test = train_test_split(x_close, y_close, test_size = 0.1)\n",
    "\n",
    "# create an array for predicted value\n",
    "predicted_step_array_high = np.array(data_high.drop([\"Predictin\"], 1))[-prediction_step:]\n",
    "predicted_step_array_low = np.array(data_low.drop([\"Predictin\"], 1))[-prediction_step:]\n",
    "predicted_step_array_close = np.array(data_close.drop([\"Predictin\"], 1))[-prediction_step:]\n",
    "print(\"Successful\")"
   ]
  },
  {
   "cell_type": "code",
   "execution_count": 5,
   "id": "8ed75498",
   "metadata": {},
   "outputs": [
    {
     "name": "stdout",
     "output_type": "stream",
     "text": [
      "Successful\n"
     ]
    }
   ],
   "source": [
    "# predict high price\n",
    "\n",
    "# create a svr model\n",
    "# kernel{‘linear’, ‘poly’, ‘rbf’, ‘sigmoid’, ‘precomputed’}\n",
    "svr_model = SVR(kernel = \"rbf\", C = 1e4, gamma = 0.00001)\n",
    "svr_model.fit(x_high_train, y_high_train)\n",
    "\n",
    "# model accuracy\n",
    "model_confidence_high = svr_model.score(x_high_test, y_high_test)\n",
    "model_prediction_high = svr_model.predict(x_high_test)\n",
    "\n",
    "model_prediction_high = (model_prediction_high * s_high) + m_high\n",
    "y_high_test = (y_high_test * s_high) + m_high\n",
    "rmse_high = np.sqrt(np.mean(model_prediction_high - y_high_test) ** 2)\n",
    "R2_high = model_confidence_high\n",
    "\n",
    "# plt.plot(y_test)\n",
    "# plt.plot(model_prediction)\n",
    "# plt.show()\n",
    "\n",
    "next_steps_high = svr_model.predict(predicted_step_array_high)\n",
    "next_steps_high = (next_steps_high * s_high) + m_high\n",
    "print(\"Successful\")"
   ]
  },
  {
   "cell_type": "code",
   "execution_count": 6,
   "id": "feab6d18",
   "metadata": {},
   "outputs": [
    {
     "name": "stdout",
     "output_type": "stream",
     "text": [
      "Successful\n"
     ]
    }
   ],
   "source": [
    "# predict low price\n",
    "\n",
    "# create a svr model\n",
    "# kernel{‘linear’, ‘poly’, ‘rbf’, ‘sigmoid’, ‘precomputed’}\n",
    "svr_model = SVR(kernel = \"rbf\", C = 1e4, gamma = 0.00001)\n",
    "svr_model.fit(x_low_train, y_low_train)\n",
    "\n",
    "# model accuracy\n",
    "model_confidence_low = svr_model.score(x_low_test, y_low_test)\n",
    "model_prediction_low = svr_model.predict(x_low_test)\n",
    "\n",
    "model_prediction_low = (model_prediction_low * s_low) + m_low\n",
    "y_low_test = (y_low_test * s_low) + m_low\n",
    "rmse_low = np.sqrt(np.mean(model_prediction_low - y_low_test) ** 2)\n",
    "R2_low = model_confidence_low\n",
    "\n",
    "# plt.plot(y_test)\n",
    "# plt.plot(model_prediction)\n",
    "# plt.show()\n",
    "\n",
    "next_steps_low = svr_model.predict(predicted_step_array_low)\n",
    "next_steps_low = (next_steps_low * s_low) + m_low\n",
    "print(\"Successful\")"
   ]
  },
  {
   "cell_type": "code",
   "execution_count": 7,
   "id": "2a6ec555",
   "metadata": {},
   "outputs": [
    {
     "name": "stdout",
     "output_type": "stream",
     "text": [
      "Successful\n"
     ]
    }
   ],
   "source": [
    "# predict close price\n",
    "\n",
    "# create a svr model\n",
    "# kernel{‘linear’, ‘poly’, ‘rbf’, ‘sigmoid’, ‘precomputed’}\n",
    "svr_model = SVR(kernel = \"rbf\", C = 1e4, gamma = 0.00001)\n",
    "svr_model.fit(x_close_train, y_close_train)\n",
    "\n",
    "# model accuracy\n",
    "model_confidence_close = svr_model.score(x_close_test, y_close_test)\n",
    "model_prediction_close = svr_model.predict(x_close_test)\n",
    "\n",
    "model_prediction_close = (model_prediction_close * s_close) + m_close\n",
    "y_close_test = (y_close_test * s_close) + m_close\n",
    "rmse_close = np.sqrt(np.mean(model_prediction_close - y_close_test) ** 2)\n",
    "R2_close = model_confidence_close\n",
    "\n",
    "# plt.plot(y_test)\n",
    "# plt.plot(model_prediction)\n",
    "# plt.show()\n",
    "\n",
    "next_steps_close = svr_model.predict(predicted_step_array_close)\n",
    "next_steps_close = (next_steps_close * s_close) + m_close\n",
    "print(\"Successful\")"
   ]
  },
  {
   "cell_type": "code",
   "execution_count": 8,
   "id": "ef9dd6f5",
   "metadata": {},
   "outputs": [
    {
     "name": "stdout",
     "output_type": "stream",
     "text": [
      "R2 High :  0.9967649118078642\n",
      "RMSE High :  0.03721276041980716\n",
      "R2 Low :  0.9958711949857061\n",
      "RMSE Low :  0.036028603174164585\n",
      "R2 Close :  0.9966507569121401\n",
      "RMSE Close :  0.040597093302772086\n",
      "*****************************************\n",
      "High price :\n",
      "Previous high price :  3.75054\n",
      "Next step high price :  [3.74694842]\n",
      "Chaing high price in % :  [0.09585356]\n",
      "*****************************************\n",
      "Low price :\n",
      "Previous low price :  3.65417\n",
      "Next step low price :  [3.63795004]\n",
      "Chaing low price in % :  [0.44585452]\n",
      "*****************************************\n",
      "Close price :\n",
      "Previous close price :  3.74604\n",
      "Next step close price :  [3.73460939]\n",
      "Chaing close price in % :  [0.30607242]\n"
     ]
    }
   ],
   "source": [
    "# print results\n",
    "print(\"R2 High : \", R2_high)\n",
    "print(\"RMSE High : \", rmse_high)\n",
    "print(\"R2 Low : \", R2_low)\n",
    "print(\"RMSE Low : \", rmse_low)\n",
    "print(\"R2 Close : \", R2_close)\n",
    "print(\"RMSE Close : \", rmse_close)\n",
    "print(\"*****************************************\")\n",
    "print(\"High price :\")\n",
    "print(\"Previous high price : \", a_high)\n",
    "print(\"Next step high price : \", next_steps_high)\n",
    "print(\"Chaing high price in % : \", ((a_high * 100)/next_steps_high)-100)\n",
    "print(\"*****************************************\")\n",
    "print(\"Low price :\")\n",
    "print(\"Previous low price : \", a_low)\n",
    "print(\"Next step low price : \", next_steps_low)\n",
    "print(\"Chaing low price in % : \", ((a_low * 100)/next_steps_low)-100)\n",
    "print(\"*****************************************\")\n",
    "print(\"Close price :\")\n",
    "print(\"Previous close price : \", a_close)\n",
    "print(\"Next step close price : \", next_steps_close)\n",
    "print(\"Chaing close price in % : \", ((a_close * 100)/next_steps_close)-100)\n",
    "\n",
    "\n",
    "\n",
    "del(data_high, data_low, data_close, m_high, m_low, m_close, model_prediction_high\n",
    "    , model_prediction_low, model_prediction_close, predicted_step_array_high, \n",
    "    predicted_step_array_low, predicted_step_array_close, prediction_step, x_high, \n",
    "    x_low, x_close, x_high_test, x_low_test, x_close_test, x_high_train, x_low_train, \n",
    "    x_close_train, y_high, y_low, y_close, y_high_test, y_low_test, y_close_test, \n",
    "    y_high_train, y_low_train, y_close_train, s_high, s_low, s_close, svr_model)"
   ]
  },
  {
   "cell_type": "code",
   "execution_count": null,
   "id": "96c03c2e",
   "metadata": {},
   "outputs": [],
   "source": []
  }
 ],
 "metadata": {
  "kernelspec": {
   "display_name": "Python 3 (ipykernel)",
   "language": "python",
   "name": "python3"
  },
  "language_info": {
   "codemirror_mode": {
    "name": "ipython",
    "version": 3
   },
   "file_extension": ".py",
   "mimetype": "text/x-python",
   "name": "python",
   "nbconvert_exporter": "python",
   "pygments_lexer": "ipython3",
   "version": "3.9.16"
  }
 },
 "nbformat": 4,
 "nbformat_minor": 5
}
